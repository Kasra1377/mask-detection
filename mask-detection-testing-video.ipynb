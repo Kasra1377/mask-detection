{
 "cells": [
  {
   "cell_type": "code",
   "execution_count": 1,
   "metadata": {},
   "outputs": [],
   "source": [
    "from tensorflow.keras.applications.mobilenet_v2 import preprocess_input\n",
    "from tensorflow.keras.preprocessing.image import img_to_array\n",
    "from tensorflow.keras.models import load_model\n",
    "import numpy as np\n",
    "import cv2\n",
    "import os"
   ]
  },
  {
   "cell_type": "code",
   "execution_count": null,
   "metadata": {},
   "outputs": [],
   "source": [
    "model = load_model(\"\\mask-detector.model\")\n",
    "prototxtPath = \"deploy.prototxt\"\n",
    "weightsPath = \"res10_300x300_ssd_iter_140000.caffemodel\""
   ]
  },
  {
   "cell_type": "code",
   "execution_count": 3,
   "metadata": {},
   "outputs": [],
   "source": [
    "net=cv2.dnn.readNet(prototxtPath , weightsPath)"
   ]
  },
  {
   "cell_type": "code",
   "execution_count": 4,
   "metadata": {},
   "outputs": [],
   "source": [
    "def readImage(imagePath):\n",
    "  #image = cv2.imread(imagePath)\n",
    "  image = cv2.resize(imagePath , (400 , 300))\n",
    "  h , w , _ = image.shape\n",
    "  blob = cv2.dnn.blobFromImage(image,1.0,(300,300),(104.0,177.0,123.0))\n",
    "  net.setInput(blob)\n",
    "  detections=net.forward()\n",
    "  count_persons = 0\n",
    "  count_mask = 0\n",
    "  count_withoutmask = 0\n",
    "  for i in range(0 , detections.shape[2]):\n",
    "    confidence = detections[0,0,i,2]\n",
    "  \n",
    "    if confidence > 0.5:\n",
    "        count_persons += 1\n",
    "        box = detections[0,0,i,3:7] * np.array([w , h , w , h])\n",
    "        (startX , startY , endX , endY) = box.astype(\"int\")\n",
    "        \n",
    "        (startX , startY) = (max(0,startX) , max(0,startY))\n",
    "        (endX , endY) = (min(w-1,endX) , min(h-1,endY))\n",
    "        \n",
    "        face = image[startY : endY, startX : endX]\n",
    "        face = cv2.cvtColor(face , cv2.COLOR_BGR2RGB)\n",
    "        face = cv2.resize(face , (224 , 224))\n",
    "        face = img_to_array(face)\n",
    "        face = preprocess_input(face)\n",
    "        face = np.expand_dims(face,axis = 0)\n",
    "        (mask , withoutMask) = model.predict(face)[0]\n",
    "        \n",
    "        if mask > withoutMask:\n",
    "          label = \"Mask\"\n",
    "          count_mask += 1\n",
    "        else:\n",
    "          label = \"No Mask\"\n",
    "          count_withoutmask += 1\n",
    "\n",
    "        color = (0 , 255 , 0) if label == \"Mask\" else (0 , 0 , 255)\n",
    "        label = \"{}: {:.2f}%\".format(label , max(mask,withoutMask) * 100)\n",
    "        \n",
    "        cv2.putText(image , label , (startX , startY-10) , cv2.FONT_HERSHEY_SIMPLEX , 0.45 , color , 2)\n",
    "        cv2.rectangle(image , (startX , startY) , (endX , endY) , color , 2)  \n",
    "\n",
    "  cv2.putText(image , \"Person(s) : {}\".format(count_persons) , (0 , h - 30) , cv2.FONT_HERSHEY_SIMPLEX , 0.45 , (0 , 255 , 255) , 1)\n",
    "  cv2.putText(image , \"With mask : {}\".format(count_mask) , (0 , h - 15) , cv2.FONT_HERSHEY_SIMPLEX , 0.45 , (0 , 255 , 255) , 1)\n",
    "  cv2.putText(image , \"Without mask : {}\".format(count_withoutmask)  , (0 , h) , cv2.FONT_HERSHEY_SIMPLEX , 0.45 , (0 , 255 , 255) , 1)      \n",
    "  #cv2.imshow(\"frame\" , image)\n",
    "  return image\n",
    "    \n",
    "  cv2.waitKey(0)\n",
    "  cv2.destroyAllWindows()"
   ]
  },
  {
   "cell_type": "code",
   "execution_count": 5,
   "metadata": {},
   "outputs": [
    {
     "ename": "NameError",
     "evalue": "name 'out' is not defined",
     "output_type": "error",
     "traceback": [
      "\u001b[1;31m---------------------------------------------------------------------------\u001b[0m",
      "\u001b[1;31mNameError\u001b[0m                                 Traceback (most recent call last)",
      "\u001b[1;32m<ipython-input-5-69f2113ddb8f>\u001b[0m in \u001b[0;36m<module>\u001b[1;34m\u001b[0m\n\u001b[0;32m     12\u001b[0m         \u001b[1;32mbreak\u001b[0m\u001b[1;33m\u001b[0m\u001b[1;33m\u001b[0m\u001b[0m\n\u001b[0;32m     13\u001b[0m \u001b[0mcap\u001b[0m\u001b[1;33m.\u001b[0m\u001b[0mrelease\u001b[0m\u001b[1;33m(\u001b[0m\u001b[1;33m)\u001b[0m\u001b[1;33m\u001b[0m\u001b[1;33m\u001b[0m\u001b[0m\n\u001b[1;32m---> 14\u001b[1;33m \u001b[0mout\u001b[0m\u001b[1;33m.\u001b[0m\u001b[0mrelease\u001b[0m\u001b[1;33m(\u001b[0m\u001b[1;33m)\u001b[0m\u001b[1;33m\u001b[0m\u001b[1;33m\u001b[0m\u001b[0m\n\u001b[0m\u001b[0;32m     15\u001b[0m \u001b[0mcv2\u001b[0m\u001b[1;33m.\u001b[0m\u001b[0mdestroyAllWindows\u001b[0m\u001b[1;33m(\u001b[0m\u001b[1;33m)\u001b[0m\u001b[1;33m\u001b[0m\u001b[1;33m\u001b[0m\u001b[0m\n",
      "\u001b[1;31mNameError\u001b[0m: name 'out' is not defined"
     ]
    }
   ],
   "source": [
    "cap = cv2.VideoCapture(0)\n",
    "while(cap.isOpened()):\n",
    "    ret, frame = cap.read()\n",
    "    if ret==True:\n",
    "        \n",
    "        frame = readImage(frame)\n",
    "        cv2.imshow('frame',frame)\n",
    "        \n",
    "        if cv2.waitKey(1) & 0xFF == ord('q'):\n",
    "            break\n",
    "    else:\n",
    "        break\n",
    "cap.release()\n",
    "out.release()\n",
    "cv2.destroyAllWindows()"
   ]
  }
 ],
 "metadata": {
  "kernelspec": {
   "display_name": "base",
   "language": "python",
   "name": "base"
  },
  "language_info": {
   "codemirror_mode": {
    "name": "ipython",
    "version": 3
   },
   "file_extension": ".py",
   "mimetype": "text/x-python",
   "name": "python",
   "nbconvert_exporter": "python",
   "pygments_lexer": "ipython3",
   "version": "3.8.5"
  }
 },
 "nbformat": 4,
 "nbformat_minor": 4
}
